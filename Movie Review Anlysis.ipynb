{
 "cells": [
  {
   "cell_type": "code",
   "execution_count": 1,
   "metadata": {},
   "outputs": [],
   "source": [
    "from bs4 import BeautifulSoup\n",
    "import requests\n",
    "import re\n",
    "import pandas as pd\n",
    "import matplotlib.pyplot as plt\n",
    "import seaborn as sns"
   ]
  },
  {
   "cell_type": "code",
   "execution_count": 2,
   "metadata": {},
   "outputs": [],
   "source": [
    "# Step 3: Download IMDb Top 250 movie data\n",
    "url = 'http://www.imdb.com/chart/top'\n",
    "response = requests.get(url)"
   ]
  },
  {
   "cell_type": "code",
   "execution_count": 3,
   "metadata": {},
   "outputs": [],
   "source": [
    "# Step 4: Parse the webpage content\n",
    "soup = BeautifulSoup(response.text, \"html.parser\")\n"
   ]
  },
  {
   "cell_type": "code",
   "execution_count": 4,
   "metadata": {},
   "outputs": [],
   "source": [
    "# Step 5: Extract movie details\n",
    "movies = soup.select('td.titleColumn')\n",
    "crew = [a.attrs.get('title') for a in soup.select('td.titleColumn a')]\n",
    "ratings = [b.attrs.get('data-value') for b in soup.select('td.posterColumn span[name=ir]')]\n"
   ]
  },
  {
   "cell_type": "code",
   "execution_count": 5,
   "metadata": {},
   "outputs": [],
   "source": [
    "# Step 6: Store extracted data in a list\n",
    "movie_list = []\n",
    "\n",
    "for index in range(0, len(movies)):\n",
    "    movie_string = movies[index].get_text()\n",
    "    movie = (' '.join(movie_string.split()).replace('.', ''))\n",
    "    movie_title = movie[len(str(index))+1:-7]\n",
    "    year = re.search(r'\\((.*?)\\)', movie_string).group(1)\n",
    "    place = movie[:len(str(index))-(len(movie))]\n",
    "    data = {\n",
    "        \"place\": place,\n",
    "        \"movie_title\": movie_title,\n",
    "        \"rating\": ratings[index],\n",
    "        \"year\": year,\n",
    "        \"star_cast\": crew[index],\n",
    "    }\n",
    "    movie_list.append(data)"
   ]
  },
  {
   "cell_type": "code",
   "execution_count": 6,
   "metadata": {},
   "outputs": [],
   "source": [
    "# Step 7: Print extracted data\n",
    "for movie in movie_list:\n",
    "    print(movie['place'], '-', movie['movie_title'], '('+movie['year'] + ') -', 'Starring:', movie['star_cast'], movie['rating'])\n"
   ]
  },
  {
   "cell_type": "code",
   "execution_count": 7,
   "metadata": {},
   "outputs": [
    {
     "name": "stdout",
     "output_type": "stream",
     "text": [
      "\n",
      "Data has been saved to 'imdb_top_250_movies.csv'\n"
     ]
    }
   ],
   "source": [
    "# Step 7: Save data to a CSV file\n",
    "df = pd.DataFrame(movie_list)\n",
    "df.to_csv('imdb_top_250_movies.csv', index=False)\n",
    "print(\"\\nData has been saved to 'imdb_top_250_movies.csv'\")"
   ]
  },
  {
   "cell_type": "code",
   "execution_count": 8,
   "metadata": {},
   "outputs": [],
   "source": [
    "# Step 8: Save data to a CSV file\n",
    "df = pd.DataFrame(movie_list)\n",
    "df.to_csv('imdb_top_250_movies.csv', index=False)"
   ]
  },
  {
   "cell_type": "code",
   "execution_count": 15,
   "metadata": {},
   "outputs": [
    {
     "data": {
      "image/png": "[encoded data removed]",
      "text/plain": [
       "<Figure size 1200x600 with 1 Axes>"
      ]
     },
     "metadata": {},
     "output_type": "display_data"
    }
   ],
   "source": [
    "# Step 8: Data Visualization\n",
    "plt.figure(figsize=(12, 6))\n",
    "sns.histplot(df['year'], bins=30, kde=True, color='blue')\n",
    "plt.xlabel(\"Release Year\")\n",
    "plt.ylabel(\"Number of Movies\")\n",
    "plt.title(\"Distribution of Top 250 IMDb Movies by Release Year\")\n",
    "plt.show()"
   ]
  },
  {
   "cell_type": "code",
   "execution_count": 12,
   "metadata": {},
   "outputs": [],
   "source": [
    "for index in range(0, len(movies)):\n",
    "    movie_string = movies[index].get_text()\n",
    "    movie = (' '.join(movie_string.split()).replace('.', ''))\n",
    "    year_match = re.search(r'\\((\\d{4})\\)', movie_string)\n",
    "    \n",
    "    if year_match:\n",
    "        year = year_match.group(1)\n",
    "    else:\n",
    "        year = \"Unknown\"\n",
    "\n",
    "    print(f\"Extracted Year: {year}\")  # Debugging line\n"
   ]
  },
  {
   "cell_type": "code",
   "execution_count": 14,
   "metadata": {},
   "outputs": [
    {
     "name": "stdout",
     "output_type": "stream",
     "text": [
      "Empty DataFrame\n",
      "Columns: [year]\n",
      "Index: []\n"
     ]
    }
   ],
   "source": [
    "df = pd.DataFrame(movie_list)\n",
    "\n",
    "# If 'year' is missing, manually add it\n",
    "if 'year' not in df.columns:\n",
    "    df['year'] = None  # Fallback to avoid KeyError\n",
    "\n",
    "print(df.head())  # Check if 'year' is now present\n"
   ]
  },
  {
   "cell_type": "code",
   "execution_count": 18,
   "metadata": {},
   "outputs": [
    {
     "name": "stdout",
     "output_type": "stream",
     "text": [
      "Error: Ratings list is empty. Check IMDb page structure.\n"
     ]
    }
   ],
   "source": [
    "ratings = [b.attrs.get('data-value') for b in soup.select('td.posterColumn span[name=ir]')]\n",
    "\n",
    "if not ratings:\n",
    "    print(\"Error: Ratings list is empty. Check IMDb page structure.\")\n"
   ]
  },
  {
   "cell_type": "code",
   "execution_count": 28,
   "metadata": {},
   "outputs": [
    {
     "name": "stdout",
     "output_type": "stream",
     "text": [
      "Ratings list length: 0\n",
      "Sample ratings: []\n"
     ]
    }
   ],
   "source": [
    "print(\"Ratings list length:\", len(ratings))\n",
    "print(\"Sample ratings:\", ratings[:5])  # Check first 5 ratings\n"
   ]
  },
  {
   "cell_type": "code",
   "execution_count": 29,
   "metadata": {},
   "outputs": [
    {
     "name": "stdout",
     "output_type": "stream",
     "text": [
      "DataFrame columns: Index(['year'], dtype='object')\n",
      "Empty DataFrame\n",
      "Columns: [year]\n",
      "Index: []\n"
     ]
    }
   ],
   "source": [
    "print(\"DataFrame columns:\", df.columns)\n",
    "print(df.head())  # Display first few rows\n"
   ]
  },
  {
   "cell_type": "code",
   "execution_count": 35,
   "metadata": {},
   "outputs": [
    {
     "name": "stdout",
     "output_type": "stream",
     "text": [
      "Error: 'rating' column is missing!\n"
     ]
    }
   ],
   "source": [
    "if 'rating' in df.columns:\n",
    "    df['rating'] = pd.to_numeric(df['rating'], errors='coerce')\n",
    "    df = df.dropna(subset=['rating'])  # Drop rows with missing ratings\n",
    "    print(\"Cleaned Ratings:\", df['rating'].head())\n",
    "\n",
    "    plt.figure(figsize=(12, 6))\n",
    "    sns.boxplot(x=df['rating'])\n",
    "    plt.xlabel(\"IMDB Rating\")\n",
    "    plt.title(\"Distribution of IMDb Ratings\")\n",
    "    plt.show()\n",
    "else:\n",
    "    print(\"Error: 'rating' column is missing!\")\n"
   ]
  },
  {
   "cell_type": "code",
   "execution_count": 41,
   "metadata": {},
   "outputs": [
    {
     "name": "stdout",
     "output_type": "stream",
     "text": [
      "\n",
      "Data saved to 'imdb_top_250_movies.csv'\n"
     ]
    }
   ],
   "source": [
    "# Step 4: Convert to DataFrame & Save CSV\n",
    "df = pd.DataFrame(movie_list)\n",
    "df.to_csv('imdb_top_250_movies.csv', index=False)\n",
    "print(\"\\nData saved to 'imdb_top_250_movies.csv'\")"
   ]
  },
  {
   "cell_type": "code",
   "execution_count": 43,
   "metadata": {},
   "outputs": [],
   "source": [
    "ratings = [float(span.text.strip()) for span in soup.select('td.ratingColumn strong')]\n"
   ]
  },
  {
   "cell_type": "code",
   "execution_count": 44,
   "metadata": {},
   "outputs": [
    {
     "name": "stdout",
     "output_type": "stream",
     "text": [
      "Extracted Ratings: []\n"
     ]
    }
   ],
   "source": [
    "ratings = []\n",
    "for tag in soup.select('td.ratingColumn strong'):\n",
    "    try:\n",
    "        ratings.append(float(tag.text.strip()))\n",
    "    except ValueError:\n",
    "        ratings.append(None)  # Handle missing values gracefully\n",
    "\n",
    "print(\"Extracted Ratings:\", ratings[:10])  # Debugging\n"
   ]
  }
 ],
 "metadata": {
  "kernelspec": {
   "display_name": "base",
   "language": "python",
   "name": "python3"
  },
  "language_info": {
   "codemirror_mode": {
    "name": "ipython",
    "version": 3
   },
   "file_extension": ".py",
   "mimetype": "text/x-python",
   "name": "python",
   "nbconvert_exporter": "python",
   "pygments_lexer": "ipython3",
   "version": "3.12.7"
  }
 },
 "nbformat": 4,
 "nbformat_minor": 2
}
